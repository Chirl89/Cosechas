{
 "cells": [
  {
   "cell_type": "code",
   "execution_count": 1,
   "id": "3b36776d-90ce-4172-80f7-de9c4fc44f2d",
   "metadata": {},
   "outputs": [],
   "source": [
    "import pandas as pd\n",
    "import numpy as np\n",
    "from arch import arch_model\n",
    "import matplotlib.pyplot as plt\n",
    "from statsmodels.tsa.arima.model import ARIMA\n",
    "from forecast import *"
   ]
  },
  {
   "cell_type": "code",
   "execution_count": 2,
   "id": "943f4549-640c-44a8-8591-4536ae94b85d",
   "metadata": {},
   "outputs": [],
   "source": [
    "forecast_horizon = 120\n",
    "time_step = 3"
   ]
  },
  {
   "cell_type": "code",
   "execution_count": 39,
   "id": "4d8e53ce-89de-456b-91f8-ad796393340e",
   "metadata": {},
   "outputs": [],
   "source": [
    "input_path = f'input/inputBanorte.csv'\n",
    "df = pd.read_csv(input_path, delimiter=';', index_col='Mes', parse_dates=['Mes'], dayfirst=True)\n",
    "df['Medio'] = df['Medio'].str.replace('.', '').str.replace(',', '.').astype(float)\n",
    "df.index = pd.DatetimeIndex(df.index).to_period('M').to_timestamp()\n",
    "data = df[:-2]\n",
    "forecast_dates = pd.date_range(start=data.index[-1] + pd.DateOffset(months=1), periods=forecast_horizon, freq='MS')"
   ]
  },
  {
   "cell_type": "code",
   "execution_count": 40,
   "id": "d2f6d2ee-22aa-445d-ad36-b857665c3b0e",
   "metadata": {},
   "outputs": [
    {
     "data": {
      "text/html": [
       "<div>\n",
       "<style scoped>\n",
       "    .dataframe tbody tr th:only-of-type {\n",
       "        vertical-align: middle;\n",
       "    }\n",
       "\n",
       "    .dataframe tbody tr th {\n",
       "        vertical-align: top;\n",
       "    }\n",
       "\n",
       "    .dataframe thead th {\n",
       "        text-align: right;\n",
       "    }\n",
       "</style>\n",
       "<table border=\"1\" class=\"dataframe\">\n",
       "  <thead>\n",
       "    <tr style=\"text-align: right;\">\n",
       "      <th></th>\n",
       "      <th>Medio</th>\n",
       "    </tr>\n",
       "    <tr>\n",
       "      <th>Mes</th>\n",
       "      <th></th>\n",
       "    </tr>\n",
       "  </thead>\n",
       "  <tbody>\n",
       "    <tr>\n",
       "      <th>2022-01-01</th>\n",
       "      <td>2.857121e+09</td>\n",
       "    </tr>\n",
       "    <tr>\n",
       "      <th>2022-02-01</th>\n",
       "      <td>3.157534e+09</td>\n",
       "    </tr>\n",
       "    <tr>\n",
       "      <th>2022-03-01</th>\n",
       "      <td>2.827872e+09</td>\n",
       "    </tr>\n",
       "    <tr>\n",
       "      <th>2022-04-01</th>\n",
       "      <td>3.158949e+09</td>\n",
       "    </tr>\n",
       "    <tr>\n",
       "      <th>2022-05-01</th>\n",
       "      <td>3.284516e+09</td>\n",
       "    </tr>\n",
       "    <tr>\n",
       "      <th>2022-06-01</th>\n",
       "      <td>3.140694e+09</td>\n",
       "    </tr>\n",
       "    <tr>\n",
       "      <th>2022-07-01</th>\n",
       "      <td>3.172952e+09</td>\n",
       "    </tr>\n",
       "    <tr>\n",
       "      <th>2022-08-01</th>\n",
       "      <td>3.272219e+09</td>\n",
       "    </tr>\n",
       "    <tr>\n",
       "      <th>2022-09-01</th>\n",
       "      <td>3.343171e+09</td>\n",
       "    </tr>\n",
       "    <tr>\n",
       "      <th>2022-10-01</th>\n",
       "      <td>3.340425e+09</td>\n",
       "    </tr>\n",
       "    <tr>\n",
       "      <th>2022-11-01</th>\n",
       "      <td>3.320740e+09</td>\n",
       "    </tr>\n",
       "    <tr>\n",
       "      <th>2022-12-01</th>\n",
       "      <td>3.201773e+09</td>\n",
       "    </tr>\n",
       "    <tr>\n",
       "      <th>2023-01-01</th>\n",
       "      <td>2.754710e+09</td>\n",
       "    </tr>\n",
       "    <tr>\n",
       "      <th>2023-02-01</th>\n",
       "      <td>2.732543e+09</td>\n",
       "    </tr>\n",
       "  </tbody>\n",
       "</table>\n",
       "</div>"
      ],
      "text/plain": [
       "                   Medio\n",
       "Mes                     \n",
       "2022-01-01  2.857121e+09\n",
       "2022-02-01  3.157534e+09\n",
       "2022-03-01  2.827872e+09\n",
       "2022-04-01  3.158949e+09\n",
       "2022-05-01  3.284516e+09\n",
       "2022-06-01  3.140694e+09\n",
       "2022-07-01  3.172952e+09\n",
       "2022-08-01  3.272219e+09\n",
       "2022-09-01  3.343171e+09\n",
       "2022-10-01  3.340425e+09\n",
       "2022-11-01  3.320740e+09\n",
       "2022-12-01  3.201773e+09\n",
       "2023-01-01  2.754710e+09\n",
       "2023-02-01  2.732543e+09"
      ]
     },
     "execution_count": 40,
     "metadata": {},
     "output_type": "execute_result"
    }
   ],
   "source": [
    "data"
   ]
  },
  {
   "cell_type": "code",
   "execution_count": 42,
   "id": "0d6b9ade-fcea-4180-ac7b-bff4b868e36b",
   "metadata": {},
   "outputs": [],
   "source": [
    "pred_rf, sup_rf, inf_rf = rf_train_with_bands(data['Medio'], forecast_horizon, time_step)\n",
    "forecast_df_rf = pd.DataFrame({'Mes': forecast_dates,\n",
    "                                 'Pronóstico': pred_rf,\n",
    "                                 'Inferior 95': inf_rf,\n",
    "                                 'Superior 95': sup_rf})\n",
    "forecast_df_rf.set_index('Mes', inplace=True)\n"
   ]
  },
  {
   "cell_type": "code",
   "execution_count": 43,
   "id": "35fe2927-e07d-4d89-92aa-af559ebee907",
   "metadata": {},
   "outputs": [
    {
     "data": {
      "text/html": [
       "<div>\n",
       "<style scoped>\n",
       "    .dataframe tbody tr th:only-of-type {\n",
       "        vertical-align: middle;\n",
       "    }\n",
       "\n",
       "    .dataframe tbody tr th {\n",
       "        vertical-align: top;\n",
       "    }\n",
       "\n",
       "    .dataframe thead th {\n",
       "        text-align: right;\n",
       "    }\n",
       "</style>\n",
       "<table border=\"1\" class=\"dataframe\">\n",
       "  <thead>\n",
       "    <tr style=\"text-align: right;\">\n",
       "      <th></th>\n",
       "      <th>Pronóstico</th>\n",
       "      <th>Inferior 95</th>\n",
       "      <th>Superior 95</th>\n",
       "    </tr>\n",
       "    <tr>\n",
       "      <th>Mes</th>\n",
       "      <th></th>\n",
       "      <th></th>\n",
       "      <th></th>\n",
       "    </tr>\n",
       "  </thead>\n",
       "  <tbody>\n",
       "    <tr>\n",
       "      <th>2023-03-01</th>\n",
       "      <td>3.116776e+09</td>\n",
       "      <td>3.116776e+09</td>\n",
       "      <td>3.116776e+09</td>\n",
       "    </tr>\n",
       "    <tr>\n",
       "      <th>2023-04-01</th>\n",
       "      <td>3.163882e+09</td>\n",
       "      <td>3.163882e+09</td>\n",
       "      <td>3.163882e+09</td>\n",
       "    </tr>\n",
       "    <tr>\n",
       "      <th>2023-05-01</th>\n",
       "      <td>3.184422e+09</td>\n",
       "      <td>3.184422e+09</td>\n",
       "      <td>3.184422e+09</td>\n",
       "    </tr>\n",
       "    <tr>\n",
       "      <th>2023-06-01</th>\n",
       "      <td>3.255482e+09</td>\n",
       "      <td>3.255482e+09</td>\n",
       "      <td>3.255482e+09</td>\n",
       "    </tr>\n",
       "    <tr>\n",
       "      <th>2023-07-01</th>\n",
       "      <td>3.306457e+09</td>\n",
       "      <td>3.306457e+09</td>\n",
       "      <td>3.306457e+09</td>\n",
       "    </tr>\n",
       "    <tr>\n",
       "      <th>...</th>\n",
       "      <td>...</td>\n",
       "      <td>...</td>\n",
       "      <td>...</td>\n",
       "    </tr>\n",
       "    <tr>\n",
       "      <th>2032-10-01</th>\n",
       "      <td>3.058621e+09</td>\n",
       "      <td>3.058621e+09</td>\n",
       "      <td>3.058621e+09</td>\n",
       "    </tr>\n",
       "    <tr>\n",
       "      <th>2032-11-01</th>\n",
       "      <td>2.903052e+09</td>\n",
       "      <td>2.903052e+09</td>\n",
       "      <td>2.903052e+09</td>\n",
       "    </tr>\n",
       "    <tr>\n",
       "      <th>2032-12-01</th>\n",
       "      <td>3.156919e+09</td>\n",
       "      <td>3.156919e+09</td>\n",
       "      <td>3.156919e+09</td>\n",
       "    </tr>\n",
       "    <tr>\n",
       "      <th>2033-01-01</th>\n",
       "      <td>3.255785e+09</td>\n",
       "      <td>3.255785e+09</td>\n",
       "      <td>3.255785e+09</td>\n",
       "    </tr>\n",
       "    <tr>\n",
       "      <th>2033-02-01</th>\n",
       "      <td>3.210566e+09</td>\n",
       "      <td>3.210566e+09</td>\n",
       "      <td>3.210566e+09</td>\n",
       "    </tr>\n",
       "  </tbody>\n",
       "</table>\n",
       "<p>120 rows × 3 columns</p>\n",
       "</div>"
      ],
      "text/plain": [
       "              Pronóstico   Inferior 95   Superior 95\n",
       "Mes                                                 \n",
       "2023-03-01  3.116776e+09  3.116776e+09  3.116776e+09\n",
       "2023-04-01  3.163882e+09  3.163882e+09  3.163882e+09\n",
       "2023-05-01  3.184422e+09  3.184422e+09  3.184422e+09\n",
       "2023-06-01  3.255482e+09  3.255482e+09  3.255482e+09\n",
       "2023-07-01  3.306457e+09  3.306457e+09  3.306457e+09\n",
       "...                  ...           ...           ...\n",
       "2032-10-01  3.058621e+09  3.058621e+09  3.058621e+09\n",
       "2032-11-01  2.903052e+09  2.903052e+09  2.903052e+09\n",
       "2032-12-01  3.156919e+09  3.156919e+09  3.156919e+09\n",
       "2033-01-01  3.255785e+09  3.255785e+09  3.255785e+09\n",
       "2033-02-01  3.210566e+09  3.210566e+09  3.210566e+09\n",
       "\n",
       "[120 rows x 3 columns]"
      ]
     },
     "execution_count": 43,
     "metadata": {},
     "output_type": "execute_result"
    }
   ],
   "source": [
    "forecast_df_rf\n"
   ]
  },
  {
   "cell_type": "code",
   "execution_count": 29,
   "id": "4d30884d-4e98-4006-a16c-6f0984dcea13",
   "metadata": {},
   "outputs": [],
   "source": [
    "data = df['Medio'].dropna()\n",
    "actual_values = data[-2:].values"
   ]
  },
  {
   "cell_type": "code",
   "execution_count": 44,
   "id": "f403e6b0-2351-4120-bc98-58338aaf8b0e",
   "metadata": {},
   "outputs": [
    {
     "data": {
      "text/plain": [
       "array([2.70838778e+09, 2.56628587e+09])"
      ]
     },
     "execution_count": 44,
     "metadata": {},
     "output_type": "execute_result"
    }
   ],
   "source": [
    "actual_values"
   ]
  },
  {
   "cell_type": "code",
   "execution_count": 47,
   "id": "d3a035dd-f307-4bdf-80d5-d9d483bf4083",
   "metadata": {},
   "outputs": [
    {
     "data": {
      "text/plain": [
       "array([3.11677603e+09, 3.16388195e+09])"
      ]
     },
     "execution_count": 47,
     "metadata": {},
     "output_type": "execute_result"
    }
   ],
   "source": [
    "forecast_df_rf['Pronóstico'][:2].values"
   ]
  },
  {
   "cell_type": "code",
   "execution_count": null,
   "id": "5769503e-c87c-4707-aecc-43caed6d0321",
   "metadata": {},
   "outputs": [],
   "source": []
  }
 ],
 "metadata": {
  "kernelspec": {
   "display_name": "Python 3 (ipykernel)",
   "language": "python",
   "name": "python3"
  },
  "language_info": {
   "codemirror_mode": {
    "name": "ipython",
    "version": 3
   },
   "file_extension": ".py",
   "mimetype": "text/x-python",
   "name": "python",
   "nbconvert_exporter": "python",
   "pygments_lexer": "ipython3",
   "version": "3.10.4"
  }
 },
 "nbformat": 4,
 "nbformat_minor": 5
}
