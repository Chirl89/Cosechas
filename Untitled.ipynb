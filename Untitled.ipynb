{
 "cells": [
  {
   "cell_type": "code",
   "execution_count": 7,
   "id": "24d1a8a8-e014-4c2c-8c77-d9b3abec8810",
   "metadata": {},
   "outputs": [],
   "source": [
    "import pandas as pd\n",
    "import numpy as np\n",
    "from arch import arch_model\n",
    "import matplotlib.pyplot as plt\n",
    "from statsmodels.tsa.arima.model import ARIMA"
   ]
  },
  {
   "cell_type": "code",
   "execution_count": 8,
   "id": "88747ed2-64cb-4bce-a35d-95671b1fc9da",
   "metadata": {},
   "outputs": [],
   "source": [
    "path = f'input/inputBanorte.csv'"
   ]
  },
  {
   "cell_type": "code",
   "execution_count": 48,
   "id": "07881941-bc8a-4ab9-9fc2-6a16550f7659",
   "metadata": {},
   "outputs": [],
   "source": [
    "df = pd.read_csv(path, delimiter=';', index_col='Mes',parse_dates=['Mes'], dayfirst=True)"
   ]
  },
  {
   "cell_type": "code",
   "execution_count": 49,
   "id": "2fed0102-1c3c-4f76-af7a-87ab94cc16d5",
   "metadata": {},
   "outputs": [],
   "source": [
    "df['Medio'] = df['Medio'].str.replace('.', '').str.replace(',', '.').astype(float)\n",
    "scale_factor = 10000000\n",
    "data_scaled = df['Medio'].dropna() / scale_factor"
   ]
  },
  {
   "cell_type": "code",
   "execution_count": 50,
   "id": "095cffc7-e717-4acb-9a51-dca519896e1d",
   "metadata": {},
   "outputs": [
    {
     "name": "stderr",
     "output_type": "stream",
     "text": [
      "C:\\Users\\cgzla\\PycharmProjects\\Forecasting_Backtesting\\venv\\lib\\site-packages\\statsmodels\\tsa\\base\\tsa_model.py:473: ValueWarning: No frequency information was provided, so inferred frequency MS will be used.\n",
      "  self._init_dates(dates, freq)\n",
      "C:\\Users\\cgzla\\PycharmProjects\\Forecasting_Backtesting\\venv\\lib\\site-packages\\statsmodels\\tsa\\base\\tsa_model.py:473: ValueWarning: No frequency information was provided, so inferred frequency MS will be used.\n",
      "  self._init_dates(dates, freq)\n",
      "C:\\Users\\cgzla\\PycharmProjects\\Forecasting_Backtesting\\venv\\lib\\site-packages\\statsmodels\\tsa\\base\\tsa_model.py:473: ValueWarning: No frequency information was provided, so inferred frequency MS will be used.\n",
      "  self._init_dates(dates, freq)\n"
     ]
    }
   ],
   "source": [
    "model_arima = ARIMA(data_scaled, order=(0,1,0))\n",
    "fitted_arima = model_arima.fit()"
   ]
  },
  {
   "cell_type": "code",
   "execution_count": 51,
   "id": "af6a7471-dac2-45b9-b55f-2b85bb8b75b9",
   "metadata": {},
   "outputs": [],
   "source": [
    "residuales = fitted_arima.resid"
   ]
  },
  {
   "cell_type": "code",
   "execution_count": 52,
   "id": "d89cb496-2096-49c0-8236-3b58a87788ec",
   "metadata": {},
   "outputs": [
    {
     "data": {
      "text/plain": [
       "Mes\n",
       "2022-01-01    285.712069\n",
       "2022-02-01     30.041334\n",
       "2022-03-01    -32.966173\n",
       "2022-04-01     33.107712\n",
       "2022-05-01     12.556610\n",
       "2022-06-01    -14.382176\n",
       "2022-07-01      3.225826\n",
       "2022-08-01      9.926652\n",
       "2022-09-01      7.095291\n",
       "2022-10-01     -0.274632\n",
       "2022-11-01     -1.968534\n",
       "2022-12-01    -11.896662\n",
       "2023-01-01    -44.706355\n",
       "2023-02-01     -2.216668\n",
       "2023-03-01     -2.415516\n",
       "2023-04-01    -14.210191\n",
       "dtype: float64"
      ]
     },
     "execution_count": 52,
     "metadata": {},
     "output_type": "execute_result"
    }
   ],
   "source": [
    "residuales"
   ]
  },
  {
   "cell_type": "code",
   "execution_count": 53,
   "id": "9ee07d4c-d77c-495e-af06-a427adee9807",
   "metadata": {},
   "outputs": [],
   "source": [
    "model_arch = arch_model(residuales, vol='ARCH', p=1)\n",
    "fitted_arch = model_arch.fit(disp='off')"
   ]
  },
  {
   "cell_type": "code",
   "execution_count": 54,
   "id": "f026a17a-f26b-462b-8252-c73a86acf930",
   "metadata": {},
   "outputs": [],
   "source": [
    "forecast_horizon = 120\n",
    "forecast_arima = fitted_arima.get_forecast(steps=forecast_horizon)"
   ]
  },
  {
   "cell_type": "code",
   "execution_count": 55,
   "id": "c15aab56-25ac-49a0-9b24-e4cdcfa0ddb7",
   "metadata": {},
   "outputs": [],
   "source": [
    "predicted_mean = forecast_arima.predicted_mean"
   ]
  },
  {
   "cell_type": "code",
   "execution_count": 56,
   "id": "ab6d34b7-fd5e-4950-b668-636c68b9b1b4",
   "metadata": {},
   "outputs": [],
   "source": [
    "vol_forecast = fitted_arch.forecast(horizon=forecast_horizon)\n",
    "conditional_vol = vol_forecast.variance[-1:]"
   ]
  },
  {
   "cell_type": "code",
   "execution_count": 57,
   "id": "47fa09fc-40b6-408a-9d44-3b1f24e98d28",
   "metadata": {},
   "outputs": [],
   "source": [
    "predicted_values = predicted_mean + conditional_vol.values[-1, :] ** 0.5"
   ]
  },
  {
   "cell_type": "code",
   "execution_count": 58,
   "id": "2e4ddbdc-64ae-4a7d-bd24-e243005d1394",
   "metadata": {},
   "outputs": [],
   "source": [
    "forecast_dates = pd.date_range(start=df.index[-1] + pd.DateOffset(months=1), periods=forecast_horizon, freq='MS')"
   ]
  },
  {
   "cell_type": "code",
   "execution_count": 61,
   "id": "d8de7ceb-40b9-4411-8ccc-fc874d86efe2",
   "metadata": {},
   "outputs": [],
   "source": [
    "forecast_df = pd.DataFrame({'Mes': forecast_dates, 'Pronóstico': predicted_values * scale_factor})\n",
    "forecast_df.set_index('Mes', inplace=True)"
   ]
  },
  {
   "cell_type": "code",
   "execution_count": 62,
   "id": "56eb9285-9855-4279-9b90-72cf555e420a",
   "metadata": {},
   "outputs": [
    {
     "data": {
      "text/html": [
       "<div>\n",
       "<style scoped>\n",
       "    .dataframe tbody tr th:only-of-type {\n",
       "        vertical-align: middle;\n",
       "    }\n",
       "\n",
       "    .dataframe tbody tr th {\n",
       "        vertical-align: top;\n",
       "    }\n",
       "\n",
       "    .dataframe thead th {\n",
       "        text-align: right;\n",
       "    }\n",
       "</style>\n",
       "<table border=\"1\" class=\"dataframe\">\n",
       "  <thead>\n",
       "    <tr style=\"text-align: right;\">\n",
       "      <th></th>\n",
       "      <th>Pronóstico</th>\n",
       "    </tr>\n",
       "    <tr>\n",
       "      <th>Mes</th>\n",
       "      <th></th>\n",
       "    </tr>\n",
       "  </thead>\n",
       "  <tbody>\n",
       "    <tr>\n",
       "      <th>2023-05-01</th>\n",
       "      <td>2.749859e+09</td>\n",
       "    </tr>\n",
       "    <tr>\n",
       "      <th>2023-06-01</th>\n",
       "      <td>2.779819e+09</td>\n",
       "    </tr>\n",
       "    <tr>\n",
       "      <th>2023-07-01</th>\n",
       "      <td>2.806064e+09</td>\n",
       "    </tr>\n",
       "    <tr>\n",
       "      <th>2023-08-01</th>\n",
       "      <td>2.829707e+09</td>\n",
       "    </tr>\n",
       "    <tr>\n",
       "      <th>2023-09-01</th>\n",
       "      <td>2.851396e+09</td>\n",
       "    </tr>\n",
       "    <tr>\n",
       "      <th>...</th>\n",
       "      <td>...</td>\n",
       "    </tr>\n",
       "    <tr>\n",
       "      <th>2032-12-01</th>\n",
       "      <td>3.750294e+09</td>\n",
       "    </tr>\n",
       "    <tr>\n",
       "      <th>2033-01-01</th>\n",
       "      <td>3.755307e+09</td>\n",
       "    </tr>\n",
       "    <tr>\n",
       "      <th>2033-02-01</th>\n",
       "      <td>3.760300e+09</td>\n",
       "    </tr>\n",
       "    <tr>\n",
       "      <th>2033-03-01</th>\n",
       "      <td>3.765271e+09</td>\n",
       "    </tr>\n",
       "    <tr>\n",
       "      <th>2033-04-01</th>\n",
       "      <td>3.770223e+09</td>\n",
       "    </tr>\n",
       "  </tbody>\n",
       "</table>\n",
       "<p>120 rows × 1 columns</p>\n",
       "</div>"
      ],
      "text/plain": [
       "              Pronóstico\n",
       "Mes                     \n",
       "2023-05-01  2.749859e+09\n",
       "2023-06-01  2.779819e+09\n",
       "2023-07-01  2.806064e+09\n",
       "2023-08-01  2.829707e+09\n",
       "2023-09-01  2.851396e+09\n",
       "...                  ...\n",
       "2032-12-01  3.750294e+09\n",
       "2033-01-01  3.755307e+09\n",
       "2033-02-01  3.760300e+09\n",
       "2033-03-01  3.765271e+09\n",
       "2033-04-01  3.770223e+09\n",
       "\n",
       "[120 rows x 1 columns]"
      ]
     },
     "execution_count": 62,
     "metadata": {},
     "output_type": "execute_result"
    }
   ],
   "source": [
    "forecast_df"
   ]
  },
  {
   "cell_type": "code",
   "execution_count": 65,
   "id": "bfcb5564-47ce-48a8-ac4c-25ba2b3effa7",
   "metadata": {},
   "outputs": [],
   "source": [
    "output_path = f'output/pronostico_arch.xlsx'\n",
    "with pd.ExcelWriter(output_path, engine='openpyxl') as writer:\n",
    "    forecast_df.to_excel(writer, sheet_name='arch')"
   ]
  },
  {
   "cell_type": "code",
   "execution_count": null,
   "id": "25ad602b-4ae2-4a5b-b909-2cce2319a9ce",
   "metadata": {},
   "outputs": [],
   "source": []
  }
 ],
 "metadata": {
  "kernelspec": {
   "display_name": "Python 3 (ipykernel)",
   "language": "python",
   "name": "python3"
  },
  "language_info": {
   "codemirror_mode": {
    "name": "ipython",
    "version": 3
   },
   "file_extension": ".py",
   "mimetype": "text/x-python",
   "name": "python",
   "nbconvert_exporter": "python",
   "pygments_lexer": "ipython3",
   "version": "3.10.4"
  }
 },
 "nbformat": 4,
 "nbformat_minor": 5
}
